{
 "cells": [
  {
   "cell_type": "markdown",
   "metadata": {},
   "source": [
    "# Problem 1"
   ]
  },
  {
   "cell_type": "markdown",
   "metadata": {},
   "source": [
    "## Introduction"
   ]
  },
  {
   "cell_type": "code",
   "execution_count": null,
   "metadata": {},
   "outputs": [],
   "source": [
    "#Say \"Hello, World!\" With Python \n",
    "\n",
    "print(\"Hello, World!\")"
   ]
  },
  {
   "cell_type": "code",
   "execution_count": null,
   "metadata": {},
   "outputs": [],
   "source": [
    "#Python If-Else\n",
    "\n",
    "import math\n",
    "import os\n",
    "import random\n",
    "import re\n",
    "import sys\n",
    "\n",
    "\n",
    "\n",
    "if __name__ == '__main__':\n",
    "    n = int(input().strip())\n",
    "    if n%2==1:\n",
    "        print(\"Weird\")\n",
    "    elif n%2==0 and n in range(2,6):\n",
    "        print(\"Not Weird\")\n",
    "    elif n%2==0 and n in range (6,21):\n",
    "        print(\"Weird\")\n",
    "    elif n%2==0 and n>20:\n",
    "        print(\"Not Weird\")"
   ]
  },
  {
   "cell_type": "code",
   "execution_count": null,
   "metadata": {},
   "outputs": [],
   "source": [
    "#Arithmetic Operators\n",
    "\n",
    "if __name__ == '__main__':\n",
    "    a = int(input())\n",
    "    b = int(input())\n",
    "    s = a+b\n",
    "    d = a-b\n",
    "    p = a*b\n",
    "    for i in [s,d,p]:\n",
    "        print(i)\n"
   ]
  },
  {
   "cell_type": "code",
   "execution_count": null,
   "metadata": {},
   "outputs": [],
   "source": [
    "#Python: Division\n",
    "\n",
    "if __name__ == '__main__':\n",
    "    a = int(input())\n",
    "    b = int(input())\n",
    "    first = a//b\n",
    "    second = a/b\n",
    "    print(first)\n",
    "    print(second)"
   ]
  },
  {
   "cell_type": "code",
   "execution_count": null,
   "metadata": {},
   "outputs": [],
   "source": [
    "#Loops\n",
    "\n",
    "if __name__ == '__main__':\n",
    "    n = int(input())\n",
    "    for i in range(n):\n",
    "        print(i**2)"
   ]
  },
  {
   "cell_type": "code",
   "execution_count": null,
   "metadata": {},
   "outputs": [],
   "source": [
    "#Write a function\n",
    "\n",
    "def is_leap(year):\n",
    "    leap = False\n",
    "    \n",
    "    if (year % 4 == 0 and year % 400 == 0) or (year % 4 == 0 and year % 100 != 0):\n",
    "        leap = True\n",
    "    \n",
    "    return leap"
   ]
  },
  {
   "cell_type": "code",
   "execution_count": null,
   "metadata": {},
   "outputs": [],
   "source": [
    "#Print Function\n",
    "\n",
    "if __name__ == '__main__':\n",
    "    n = int(input())\n",
    "    for i in range(1,n+1):\n",
    "        print(i,end='')"
   ]
  },
  {
   "cell_type": "markdown",
   "metadata": {},
   "source": [
    "## Data types"
   ]
  },
  {
   "cell_type": "code",
   "execution_count": null,
   "metadata": {},
   "outputs": [],
   "source": [
    "#List Comprehensions\n",
    "\n",
    "import itertools\n",
    "\n",
    "if __name__ == '__main__':\n",
    "    x = int(input())\n",
    "    y = int(input())\n",
    "    z = int(input())\n",
    "    n = int(input())\n",
    "    contentlist = []\n",
    "\n",
    "    for a in range(x+1):\n",
    "        for b in range(y+1):\n",
    "            for c in range(z+1):\n",
    "                l=[a,b,c]\n",
    "                if sum(l) != n:\n",
    "                    contentlist.append(l)\n",
    "\n",
    "print(contentlist)"
   ]
  },
  {
   "cell_type": "code",
   "execution_count": null,
   "metadata": {},
   "outputs": [],
   "source": [
    "#Find the Runner-Up Score!\n",
    "\n",
    "if __name__ == '__main__':\n",
    "    n = int(input())\n",
    "    arr = map(int, input().split())\n",
    "\n",
    "    l = list(arr)\n",
    "    lst = list(dict.fromkeys(l))\n",
    "    sorted_lst = sorted(lst)\n",
    "    print(sorted_lst[-2])"
   ]
  },
  {
   "cell_type": "code",
   "execution_count": null,
   "metadata": {},
   "outputs": [],
   "source": [
    "#Nested Lists\n",
    "\n",
    "if __name__ == '__main__':\n",
    "    full = []\n",
    "    grades = []\n",
    "    names = []\n",
    "\n",
    "    for i in range(int(input())):\n",
    "        name = input()\n",
    "        score = float(input())\n",
    "        full.append([name,score])\n",
    "        grades.append(score)\n",
    "\n",
    "    sorted_unique_grades = list(dict.fromkeys(sorted(grades)))\n",
    "    second_lowest_grade = sorted_unique_grades[1]\n",
    "    \n",
    "    student_list = []\n",
    "    for student in full:\n",
    "        if student[1] == second_lowest_grade:\n",
    "            student_list.append(student[0])\n",
    "\n",
    "    sorted_student_list = sorted(student_list)\n",
    "    for i in sorted_student_list:\n",
    "        print(i)"
   ]
  },
  {
   "cell_type": "code",
   "execution_count": null,
   "metadata": {},
   "outputs": [],
   "source": [
    "#Finding the percentage\n",
    "\n",
    "if __name__ == '__main__':\n",
    "    n = int(input())\n",
    "    student_marks = {}\n",
    "    for i in range(n):\n",
    "        name, *line = input().split()\n",
    "        scores = list(map(float, line))\n",
    "        student_marks[name] = scores\n",
    "    query_name = input()\n",
    "\n",
    "    for key,value in student_marks.items():\n",
    "        if key == query_name:\n",
    "            average = format(sum(value) / len(value),'.2f')\n",
    "            print(average)"
   ]
  },
  {
   "cell_type": "code",
   "execution_count": null,
   "metadata": {},
   "outputs": [],
   "source": [
    "#Lists\n",
    "\n",
    "if __name__ == '__main__':\n",
    "    N = int(input())\n",
    "    result = []\n",
    "    for n in range(N):\n",
    "        x = input().split(\" \")\n",
    "        command = x[0]\n",
    "        if command == \"insert\":\n",
    "            result.insert(int(x[1]), int(x[2]))\n",
    "            \n",
    "        if command == \"print\":\n",
    "            print(result)    \n",
    "\n",
    "        if command == \"remove\":\n",
    "            result.remove(int(x[1]))\n",
    "\n",
    "        if command == \"append\":\n",
    "            result.append(int(x[1]))\n",
    "\n",
    "        if command == \"sort\":\n",
    "            result = sorted(result)\n",
    "\n",
    "        if command == \"pop\":\n",
    "            result.pop()        \n",
    "\n",
    "        if command == \"reverse\":\n",
    "            result = result[::-1]"
   ]
  },
  {
   "cell_type": "code",
   "execution_count": null,
   "metadata": {},
   "outputs": [],
   "source": [
    "#Tuples\n",
    "\n",
    "if __name__ == '__main__':\n",
    "    n = int(input())\n",
    "    integer_list = map(int, input().split())\n",
    "    print(hash(tuple(integer_list)))"
   ]
  },
  {
   "cell_type": "markdown",
   "metadata": {},
   "source": [
    "## Strings"
   ]
  },
  {
   "cell_type": "code",
   "execution_count": null,
   "metadata": {},
   "outputs": [],
   "source": [
    "#sWAP cASE\n",
    "\n",
    "def swap_case(s):\n",
    "    return s.swapcase()"
   ]
  },
  {
   "cell_type": "code",
   "execution_count": null,
   "metadata": {},
   "outputs": [],
   "source": [
    "#String Split and Join\n",
    "\n",
    "def split_and_join(line):\n",
    "    line = line.split(\" \")\n",
    "    line = \"-\".join(line)\n",
    "    return line"
   ]
  },
  {
   "cell_type": "code",
   "execution_count": null,
   "metadata": {},
   "outputs": [],
   "source": [
    "#What's Your Name?\n",
    "\n",
    "def print_full_name(a, b):\n",
    "    print(\"Hello \" + a + \" \" + b + \"! You just delved into python.\")"
   ]
  },
  {
   "cell_type": "code",
   "execution_count": null,
   "metadata": {},
   "outputs": [],
   "source": [
    "#Mutations\n",
    "\n",
    "def mutate_string(string, position, character):\n",
    "    l = list(string)\n",
    "    l[position] = character\n",
    "    new_string = ''.join(l)\n",
    "    return new_string"
   ]
  },
  {
   "cell_type": "code",
   "execution_count": null,
   "metadata": {},
   "outputs": [],
   "source": [
    "#Find a string\n",
    "\n",
    "def count_substring(string, sub_string):\n",
    "    results = 0\n",
    "    sub_len = len(sub_string)\n",
    "    for i in range(len(string)):\n",
    "        if string[i:i+sub_len] == sub_string:\n",
    "            results += 1\n",
    "            \n",
    "    return results"
   ]
  },
  {
   "cell_type": "code",
   "execution_count": null,
   "metadata": {},
   "outputs": [],
   "source": [
    "#String Validators\n",
    "\n",
    "if __name__ == '__main__':\n",
    "    s = input()\n",
    "    print(any(char.isalnum() for char in s))\n",
    "    print(any(char.isalpha() for char in s))\n",
    "    print(any(char.isdigit() for char in s))\n",
    "    print(any(char.islower() for char in s))\n",
    "    print(any(char.isupper() for char in s))"
   ]
  },
  {
   "cell_type": "code",
   "execution_count": null,
   "metadata": {},
   "outputs": [],
   "source": [
    "#Text Alignment\n",
    "\n",
    "#Replace all ______ with rjust, ljust or center. \n",
    "\n",
    "thickness = int(input()) #This must be an odd number\n",
    "c = 'H'\n",
    "\n",
    "#Top Cone\n",
    "for i in range(thickness):\n",
    "    print((c*i).rjust(thickness-1)+c+(c*i).ljust(thickness-1))\n",
    "\n",
    "#Top Pillars\n",
    "for i in range(thickness+1):\n",
    "    print((c*thickness).center(thickness*2)+(c*thickness).center(thickness*6))\n",
    "\n",
    "#Middle Belt\n",
    "for i in range((thickness+1)//2):\n",
    "    print((c*thickness*5).center(thickness*6))    \n",
    "\n",
    "#Bottom Pillars\n",
    "for i in range(thickness+1):\n",
    "    print((c*thickness).center(thickness*2)+(c*thickness).center(thickness*6))    \n",
    "\n",
    "#Bottom Cone\n",
    "for i in range(thickness):\n",
    "    print(((c*(thickness-i-1)).rjust(thickness)+c+(c*(thickness-i-1)).ljust(thickness)).rjust(thickness*6))"
   ]
  },
  {
   "cell_type": "code",
   "execution_count": null,
   "metadata": {},
   "outputs": [],
   "source": [
    "#Text Wrap\n",
    "\n",
    "def wrap(string, max_width):\n",
    "    return textwrap.fill(string,max_width)"
   ]
  },
  {
   "cell_type": "code",
   "execution_count": null,
   "metadata": {},
   "outputs": [],
   "source": [
    "#Designed Door Mat\n",
    "\n",
    "# Enter your code here. Read input from STDIN. Print output to STDOUT\n",
    "\n",
    "\n",
    "n, m = map(int,input().split())\n",
    "pattern = [('.|.'*(2*i + 1)).center(m, '-') for i in range(n//2)]\n",
    "print('\\n'.join(pattern + ['WELCOME'.center(m, '-')] + pattern[::-1]))"
   ]
  },
  {
   "cell_type": "code",
   "execution_count": null,
   "metadata": {},
   "outputs": [],
   "source": [
    "#String Formatting\n",
    "\n",
    "def print_formatted(number):\n",
    "    for i in range(1, n+1):\n",
    "        print('{0:>{w}d} {0:>{w}o} {0:>{w}X} {0:>{w}b}'.format(i, w=len(bin(n))-2))"
   ]
  },
  {
   "cell_type": "code",
   "execution_count": null,
   "metadata": {},
   "outputs": [],
   "source": [
    "#Alphabet Rangoli\n",
    "\n",
    "import string\n",
    "def print_rangoli(size):\n",
    "    width = 4 * size - 3\n",
    "    alpha = string.ascii_lowercase\n",
    "    for i in list(range(size))[::-1] + list(range(1, size)):\n",
    "        print('-'.join(alpha[size-1:i:-1] + alpha[i:size]).center(width, '-'))"
   ]
  },
  {
   "cell_type": "code",
   "execution_count": null,
   "metadata": {},
   "outputs": [],
   "source": [
    "#Capitalize!\n",
    "\n",
    "# Complete the solve function below.\n",
    "def solve(s):\n",
    "    s = s.split(\" \")\n",
    "    return(\" \".join(i.capitalize() for i in s))"
   ]
  },
  {
   "cell_type": "code",
   "execution_count": null,
   "metadata": {},
   "outputs": [],
   "source": [
    "#The Minion Game\n",
    "\n",
    "def minion_game(string):\n",
    "\n",
    "    vowels = 'AEIOU'\n",
    "\n",
    "    kevin = 0\n",
    "    stuart = 0\n",
    "\n",
    "    for i in range(len(s)):\n",
    "        if s[i] in vowels:\n",
    "            kevin += (len(s)-i)\n",
    "        else:\n",
    "            stuart += (len(s)-i)\n",
    "\n",
    "    if kevin > stuart:\n",
    "        print(\"Kevin \" + str(kevin))\n",
    "    elif kevin < stuart:\n",
    "        print(\"Stuart \" + str(stuart))\n",
    "    else:\n",
    "        print(\"Draw\")"
   ]
  },
  {
   "cell_type": "code",
   "execution_count": null,
   "metadata": {},
   "outputs": [],
   "source": [
    "#Merge the Tools!\n",
    "\n",
    "def merge_the_tools(string, k):\n",
    "    for i in range(0, len(string), k):\n",
    "        s = \"\"\n",
    "        for j in string[i : i + k]:\n",
    "            if j not in s:\n",
    "                s += j          \n",
    "        print(s)"
   ]
  },
  {
   "cell_type": "markdown",
   "metadata": {},
   "source": [
    "## Sets"
   ]
  },
  {
   "cell_type": "code",
   "execution_count": null,
   "metadata": {},
   "outputs": [],
   "source": [
    "#Introduction to Sets\n",
    "\n",
    "def average(array):\n",
    "    set1 = set(array)\n",
    "    avg = sum(set1)  / len(set1)\n",
    "    return avg"
   ]
  },
  {
   "cell_type": "code",
   "execution_count": null,
   "metadata": {},
   "outputs": [],
   "source": [
    "#No Idea!\n",
    "\n",
    "m,n = input().split()\n",
    "array = input().split()\n",
    "like = set(input().split())\n",
    "dislike = set(input().split())\n",
    "\n",
    "happiness = 0\n",
    "for i in array:\n",
    "    if i in like:\n",
    "        happiness += 1\n",
    "    if i in dislike:\n",
    "        happiness -= 1\n",
    "\n",
    "print(happiness)"
   ]
  },
  {
   "cell_type": "code",
   "execution_count": null,
   "metadata": {},
   "outputs": [],
   "source": [
    "#Symmetric Difference\n",
    "\n",
    "m,a=(int(input()),input().split())\n",
    "n,b=(int(input()),input().split())\n",
    "x=set(a)\n",
    "y=set(b)\n",
    "\n",
    "p=y.difference(x)\n",
    "q=x.difference(y)\n",
    "r=p.union(q)\n",
    "\n",
    "print ('\\n'.join(sorted(r, key=int)))"
   ]
  },
  {
   "cell_type": "code",
   "execution_count": null,
   "metadata": {},
   "outputs": [],
   "source": [
    "#Set .add()\n",
    "\n",
    "n = int(input())\n",
    "s = set()\n",
    "for i in range(n):\n",
    "    s.add(input())\n",
    "print(len(s))"
   ]
  },
  {
   "cell_type": "code",
   "execution_count": null,
   "metadata": {},
   "outputs": [],
   "source": [
    "#Set .discard(), .remove() & .pop()\n",
    "\n",
    "n = int(input())\n",
    "s = set(map(int, input().split()))\n",
    "\n",
    "for i in range(int(input())):\n",
    "    string = input().split()\n",
    "    if string[0] == \"pop\":\n",
    "        s.pop()\n",
    "    elif string[0] == \"remove\":\n",
    "        s.remove(int(string[1]))\n",
    "    elif string[0] == \"discard\":\n",
    "        s.discard(int(string[1]))\n",
    "\n",
    "print(sum(s))"
   ]
  },
  {
   "cell_type": "code",
   "execution_count": null,
   "metadata": {},
   "outputs": [],
   "source": [
    "#Set .union() Operation\n",
    "\n",
    "n, english_set = input(), set(input().split())\n",
    "b, french_set = input(), set(input().split())\n",
    "\n",
    "print(len(english_set.union(french_set)))"
   ]
  },
  {
   "cell_type": "code",
   "execution_count": null,
   "metadata": {},
   "outputs": [],
   "source": [
    "#Set .intersection() Operation\n",
    "\n",
    "n, english = input(), set(input().split())\n",
    "b, french = input(), set(input().split())\n",
    "\n",
    "print(len(english.intersection(french)))"
   ]
  },
  {
   "cell_type": "code",
   "execution_count": null,
   "metadata": {},
   "outputs": [],
   "source": [
    "#Set .difference() Operation\n",
    "\n",
    "m, english = input(), set(input().split())\n",
    "n, french = input(), set(input().split())\n",
    "\n",
    "print(len(english.difference(french)))"
   ]
  },
  {
   "cell_type": "code",
   "execution_count": null,
   "metadata": {},
   "outputs": [],
   "source": [
    "#Set .symmetric_difference() Operation\n",
    "\n",
    "m, english = input(), set(input().split())\n",
    "n, french = input(), set(input().split())\n",
    "\n",
    "print(len(english.symmetric_difference(french)))\n"
   ]
  },
  {
   "cell_type": "code",
   "execution_count": null,
   "metadata": {},
   "outputs": [],
   "source": [
    "#Set Mutations\n",
    "\n",
    "def problem(a):\n",
    "    command = input().split()[0]\n",
    "    new_set = set(map(int, input().split()))\n",
    "    if command == 'intersection_update':\n",
    "        a.intersection_update(new_set)\n",
    "    if command == 'update':\n",
    "        a.update(new_set)\n",
    "    if command == 'symmetric_difference_update':\n",
    "        a.symmetric_difference_update(new_set)\n",
    "    if command == 'difference_update':\n",
    "        a.difference_update(new_set)\n",
    "\n",
    "\n",
    "n, a = input(), set(map(int, input().split()))\n",
    "for i in range(int(input())):\n",
    "    problem(a)\n",
    "    \n",
    "print(sum(a))"
   ]
  },
  {
   "cell_type": "code",
   "execution_count": null,
   "metadata": {},
   "outputs": [],
   "source": [
    "#The Captain's Room\n",
    "\n",
    "k = int(input())\n",
    "room_number_list = list(map(int, input().split()))\n",
    "captain_room_number = (sum(set(room_number_list)) * k - sum(room_number_list)) // (k - 1)\n",
    "\n",
    "print(captain_room_number)"
   ]
  },
  {
   "cell_type": "code",
   "execution_count": null,
   "metadata": {},
   "outputs": [],
   "source": [
    "#Check Subset\n",
    "\n",
    "for i in range(int(input())):\n",
    "    num_a, a = input(), set(map(int, input().split()))\n",
    "    num_b, b = input(), set(map(int, input().split()))\n",
    "    \n",
    "    print(a.issubset(b))"
   ]
  },
  {
   "cell_type": "code",
   "execution_count": null,
   "metadata": {},
   "outputs": [],
   "source": [
    "#Check Strict Superset\n",
    "\n",
    "a = set(input().split())\n",
    "\n",
    "for i in range(int(input())):\n",
    "    b = a.issuperset(set(input().split()))\n",
    "    if not b:\n",
    "        break\n",
    "\n",
    "print(b)"
   ]
  },
  {
   "cell_type": "markdown",
   "metadata": {},
   "source": [
    "## Collections"
   ]
  },
  {
   "cell_type": "code",
   "execution_count": null,
   "metadata": {
    "scrolled": true
   },
   "outputs": [],
   "source": [
    "#collections.Counter()\n",
    "\n",
    "from collections import Counter\n",
    "\n",
    "n = int(input())\n",
    "sizes = Counter(map(int,input().split()))\n",
    "x = int(input())\n",
    "total_income = []\n",
    "\n",
    "for i in range(x):\n",
    "    size,price = map(int,input().split())\n",
    "    if sizes[size] > 0:\n",
    "        total_income.append(price)\n",
    "        sizes.subtract(Counter([size]))\n",
    "\n",
    "print(sum(total_income))"
   ]
  },
  {
   "cell_type": "code",
   "execution_count": null,
   "metadata": {},
   "outputs": [],
   "source": [
    "#DefaultDict Tutorial\n",
    "\n",
    "from collections import defaultdict\n",
    "\n",
    "n,m = map(int,input().split())\n",
    "lst = []\n",
    "d = defaultdict(list)\n",
    "\n",
    "for i in range(1,n+1):\n",
    "    d[input()].append(i)\n",
    "\n",
    "for j in range(m):\n",
    "    lst.append(input())\n",
    "\n",
    "for x in lst:\n",
    "    if x in d:\n",
    "        print(' '.join(map(str,d[x])))\n",
    "    else:\n",
    "        print(-1)"
   ]
  },
  {
   "cell_type": "code",
   "execution_count": null,
   "metadata": {},
   "outputs": [],
   "source": [
    "#Collections.namedtuple()\n",
    "\n",
    "n = int(input())\n",
    "col_list = list(input().split())\n",
    "marks_col = col_list.index(\"MARKS\")\n",
    "marks_list = []\n",
    "for i in range(n):\n",
    "    infos = list(input().split())\n",
    "    marks_list.append(float(infos[marks_col]))\n",
    "\n",
    "avg = sum(marks_list)/n\n",
    "print(avg)"
   ]
  },
  {
   "cell_type": "code",
   "execution_count": null,
   "metadata": {},
   "outputs": [],
   "source": [
    "#Collections.OrderedDict()\n",
    "\n",
    "from collections import OrderedDict\n",
    "\n",
    "ordered_dictionary = OrderedDict()\n",
    "for i in range(int(input())):\n",
    "    item_name, net_price = input().rsplit(' ', 1)\n",
    "    ordered_dictionary[item_name] = ordered_dictionary.get(item_name, 0) + int(net_price)\n",
    "\n",
    "for item_name in ordered_dictionary:\n",
    "    print(item_name,ordered_dictionary[item_name])"
   ]
  },
  {
   "cell_type": "code",
   "execution_count": null,
   "metadata": {},
   "outputs": [],
   "source": [
    "#Word Order\n",
    "\n",
    "from collections import Counter, OrderedDict\n",
    "\n",
    "class OrderedCounter(Counter, OrderedDict):\n",
    "    pass\n",
    "\n",
    "ordered_counter = OrderedCounter(input() for i in range(int(input())))\n",
    "print(len(ordered_counter))\n",
    "print(*ordered_counter.values())"
   ]
  },
  {
   "cell_type": "code",
   "execution_count": null,
   "metadata": {},
   "outputs": [],
   "source": [
    "#Collections.deque()\n",
    "\n",
    "from collections import deque\n",
    "\n",
    "d = deque()\n",
    "for i in range(int(input())):\n",
    "        method, *value = input().split()\n",
    "        getattr(d, method)(*value)\n",
    "print(*d)"
   ]
  },
  {
   "cell_type": "code",
   "execution_count": null,
   "metadata": {},
   "outputs": [],
   "source": [
    "#Company Logo\n",
    "\n",
    "#!/bin/python3\n",
    "\n",
    "import math\n",
    "import os\n",
    "import random\n",
    "import re\n",
    "import sys\n",
    "\n",
    "\n",
    "from collections import Counter, OrderedDict\n",
    "\n",
    "class OrderedCounter(Counter, OrderedDict):\n",
    "    pass\n",
    "\n",
    "letters = OrderedCounter(sorted(input())).most_common(3)\n",
    "for letter in letters:\n",
    "    print(*letter)"
   ]
  },
  {
   "cell_type": "code",
   "execution_count": null,
   "metadata": {},
   "outputs": [],
   "source": [
    "#Piling Up!\n",
    "\n",
    "for t in range(int(input())):\n",
    "    l = int(input())\n",
    "    lst = list(map(int, input().split()))\n",
    "    i = 0\n",
    "    while (i < l - 1) and (lst[i] >= lst[i+1]):\n",
    "        i += 1\n",
    "    while (i < l - 1) and (lst[i] <= lst[i+1]):\n",
    "        i += 1\n",
    "    \n",
    "    if i==l-1:\n",
    "        print(\"Yes\")\n",
    "    else:\n",
    "        print(\"No\")"
   ]
  },
  {
   "cell_type": "markdown",
   "metadata": {},
   "source": [
    "## Date and Time"
   ]
  },
  {
   "cell_type": "code",
   "execution_count": null,
   "metadata": {},
   "outputs": [],
   "source": [
    "#Calendar Module\n",
    "\n",
    "import calendar\n",
    "m,d,y = map(int,input().split())\n",
    "print(list(calendar.day_name)[calendar.weekday(y, m, d)].upper())"
   ]
  },
  {
   "cell_type": "code",
   "execution_count": null,
   "metadata": {},
   "outputs": [],
   "source": [
    "#Time Delta\n",
    "\n",
    "#!/bin/python3\n",
    "\n",
    "import math\n",
    "import os\n",
    "import random\n",
    "import re\n",
    "import sys\n",
    "from datetime import datetime as dt\n",
    "\n",
    "# Complete the time_delta function below.\n",
    "def time_delta(t1, t2):\n",
    "\n",
    "    fmt = '%a %d %b %Y %H:%M:%S %z'\n",
    "    time1 =int(dt.strptime(t1,fmt).timestamp())\n",
    "    time2 =int(dt.strptime(t2,fmt).timestamp())\n",
    "    delta=time1-time2\n",
    "\n",
    "    return str(abs(delta))\n",
    "\n",
    "if __name__ == '__main__':\n",
    "    fptr = open(os.environ['OUTPUT_PATH'], 'w')\n",
    "    t = int(input())\n",
    "\n",
    "    for t_itr in range(t):\n",
    "        t1 = input()\n",
    "        t2 = input()\n",
    "        delta = time_delta(t1, t2)\n",
    "        fptr.write(delta + '\\n')\n",
    "\n",
    "    fptr.close()"
   ]
  },
  {
   "cell_type": "markdown",
   "metadata": {},
   "source": [
    "## Exceptions"
   ]
  },
  {
   "cell_type": "code",
   "execution_count": null,
   "metadata": {},
   "outputs": [],
   "source": [
    "for i in range(int(input())):\n",
    "    try:\n",
    "        a,b=map(int,input().split())\n",
    "        print(a//b)\n",
    "    except Exception as e:\n",
    "        print(\"Error Code:\",e)"
   ]
  },
  {
   "cell_type": "markdown",
   "metadata": {},
   "source": [
    "## Built-ins"
   ]
  },
  {
   "cell_type": "code",
   "execution_count": null,
   "metadata": {},
   "outputs": [],
   "source": [
    "#Zipped!\n",
    "\n",
    "n, x = map(int, input().split())\n",
    "sheet = []\n",
    "for subject in range(x):\n",
    "    sheet.append(map(float, input().split()))\n",
    "\n",
    "for student in zip(*sheet):\n",
    "    avg = sum(student)/len(student)\n",
    "    print(avg)"
   ]
  },
  {
   "cell_type": "code",
   "execution_count": null,
   "metadata": {},
   "outputs": [],
   "source": [
    "#Athlete Sort\n",
    "\n",
    "#!/bin/python3\n",
    "\n",
    "import math\n",
    "import os\n",
    "import random\n",
    "import re\n",
    "import sys\n",
    "\n",
    "\n",
    "\n",
    "if __name__ == '__main__':\n",
    "\n",
    "    n,m = map(int, input().split())\n",
    "    rows = [input() for i in range(n)]\n",
    "    k = int(input())\n",
    "\n",
    "    for row in sorted(rows, key=lambda row: int(row.split()[k])):\n",
    "        print(row)"
   ]
  },
  {
   "cell_type": "code",
   "execution_count": null,
   "metadata": {},
   "outputs": [],
   "source": [
    "#ginortS\n",
    "\n",
    "order = 'abcdefghijklmnopqrstuvwxyzABCDEFGHIJKLMNOPQRSTUVWXYZ1357902468'\n",
    "ordered_string = sorted(input(), key=order.index)\n",
    "\n",
    "print(*ordered_string,sep='')"
   ]
  },
  {
   "cell_type": "markdown",
   "metadata": {},
   "source": [
    "## Python Functionals"
   ]
  },
  {
   "cell_type": "code",
   "execution_count": null,
   "metadata": {},
   "outputs": [],
   "source": [
    "#Map and Lambda Function\n",
    "\n",
    "cube = lambda x: pow(x,3)\n",
    "\n",
    "def fibonacci(n):\n",
    "    # return a list of fibonacci numbers\n",
    "    lis = [0,1]\n",
    "    for i in range(2,n):\n",
    "        lis.append(lis[i-2] + lis[i-1])\n",
    "    return(lis[0:n])"
   ]
  },
  {
   "cell_type": "markdown",
   "metadata": {},
   "source": [
    "## Regex and Parsing Challenges"
   ]
  },
  {
   "cell_type": "code",
   "execution_count": null,
   "metadata": {},
   "outputs": [],
   "source": [
    "#Detect Floating Point Number\n",
    "\n",
    "import re\n",
    "\n",
    "n = int(input())\n",
    "\n",
    "for i in range(n):\n",
    "    string = input()\n",
    "    print(bool(re.search(r\"^[+-]?[0-9]*\\.[0-9]+$\",string)))"
   ]
  },
  {
   "cell_type": "code",
   "execution_count": null,
   "metadata": {},
   "outputs": [],
   "source": [
    "#Re.split()\n",
    "\n",
    "regex_pattern = r\"[,.]\" # Do not delete 'r'."
   ]
  },
  {
   "cell_type": "code",
   "execution_count": null,
   "metadata": {},
   "outputs": [],
   "source": [
    "#Group(), Groups() & Groupdict()\n",
    "\n",
    "import re\n",
    "m = re.search(r'([a-zA-Z0-9])\\1', input())\n",
    "\n",
    "if m:\n",
    "    print(m.group(1))\n",
    "else:\n",
    "    print(\"-1\")"
   ]
  },
  {
   "cell_type": "code",
   "execution_count": null,
   "metadata": {},
   "outputs": [],
   "source": [
    "#Re.findall() & Re.finditer()\n",
    "\n",
    "import re\n",
    "\n",
    "vowels = 'aeiou'\n",
    "consonants = 'bcdfghjklmnpqrstvwxyz'\n",
    "regex = '(?<=[' + consonants + '])([' + vowels + ']{2,})[' + consonants + ']'\n",
    "\n",
    "match = re.findall(regex, input(), re.IGNORECASE)\n",
    "\n",
    "if match:\n",
    "    print(*match, sep='\\n')\n",
    "else:\n",
    "    print('-1')"
   ]
  },
  {
   "cell_type": "code",
   "execution_count": null,
   "metadata": {},
   "outputs": [],
   "source": [
    "#Re.start() & Re.end()\n",
    "\n",
    "import re\n",
    "\n",
    "s = input()\n",
    "v = input()\n",
    "\n",
    "for i,x in enumerate(s):\n",
    "    if re.match(v,s[i:]):\n",
    "        print((i,i+len(v)-1))\n",
    "        \n",
    "if re.search(v, s)==None:\n",
    "    print((-1,-1))"
   ]
  },
  {
   "cell_type": "code",
   "execution_count": null,
   "metadata": {},
   "outputs": [],
   "source": [
    "#Regex Substitution\n",
    "\n",
    "for i in range(int(input())):\n",
    "    line = input()\n",
    "    \n",
    "    while ' && ' in line or ' || ' in line:\n",
    "        line = line.replace(\" && \", \" and \").replace(\" || \", \" or \")\n",
    "    \n",
    "    print(line)"
   ]
  },
  {
   "cell_type": "code",
   "execution_count": null,
   "metadata": {},
   "outputs": [],
   "source": [
    "#Validating Roman Numerals\n",
    "\n",
    "regex_pattern = r\"^M{0,3}(CM){0,3}D?(CD){0,3}C{0,3}(XC){0,3}L?(XL){0,3}X{0,3}(IX){0,3}V?(IV){0,3}I{0,3}$|^m{0,3}(cm){0,3}d?(cd){0,3}c{0,3}(xc){0,3}l?(xl){0,3}x{0,3}(ix){0,3}v?(iv){0,3}i{0,3}$\" # Do not delete 'r'."
   ]
  },
  {
   "cell_type": "code",
   "execution_count": null,
   "metadata": {},
   "outputs": [],
   "source": [
    "#Validating phone numbers\n",
    "\n",
    "import re\n",
    "\n",
    "for i in range(int(input())):\n",
    "    number = input()\n",
    "    if re.match(r\"^[789]{1}\\d{9}$\", number):\n",
    "        print(\"YES\")\n",
    "    else:\n",
    "        print(\"NO\")"
   ]
  },
  {
   "cell_type": "code",
   "execution_count": null,
   "metadata": {},
   "outputs": [],
   "source": [
    "#Validating and Parsing Email Addresses\n",
    "\n",
    "import re\n",
    "\n",
    "n = int(input())\n",
    "for i in range(n):\n",
    "    x, y = input().split(' ')\n",
    "    m = re.match(r'<[A-Za-z](\\w|-|\\.|_)+@[A-Za-z]+\\.[A-Za-z]{1,3}>', y)\n",
    "    if m:\n",
    "        print(x,y)"
   ]
  },
  {
   "cell_type": "code",
   "execution_count": null,
   "metadata": {},
   "outputs": [],
   "source": [
    "#Hex Color Code\n",
    "\n",
    "import re\n",
    "colors = []\n",
    "\n",
    "for i in range(int(input())):\n",
    "    line = input()\n",
    "    if len(line) and line[0] != '#':\n",
    "        colors.extend(re.findall(r'#[0-9a-fA-F]{3,6}', line))\n",
    "\n",
    "print(\"\\n\".join(colors))"
   ]
  },
  {
   "cell_type": "code",
   "execution_count": null,
   "metadata": {},
   "outputs": [],
   "source": [
    "#Validating UID\n",
    "\n",
    "import re\n",
    "\n",
    "def is_valid(uid):\n",
    "    uid = ''.join(sorted(uid))\n",
    "    has_2_or_more_upper = bool(re.search(r'[A-Z]{2,}', uid))\n",
    "    has_3_or_more_digits = bool(re.search(r'\\d{3,}', uid))\n",
    "    has_10_proper_elements = bool(re.search(r'^[a-zA-Z0-9]{10}$', uid))\n",
    "    no_repeats = not bool(re.search(r'(.)\\1', uid))\n",
    "\n",
    "    if has_2_or_more_upper and has_3_or_more_digits and has_10_proper_elements and no_repeats:\n",
    "        return \"Valid\"\n",
    "    else:\n",
    "        return \"Invalid\"\n",
    "\n",
    "for i in range(int(input())):\n",
    "    print(is_valid(input()))"
   ]
  },
  {
   "cell_type": "code",
   "execution_count": null,
   "metadata": {},
   "outputs": [],
   "source": [
    "#Validating Credit Card Numbers\n",
    "\n",
    "import re\n",
    "\n",
    "def is_valid(uid):\n",
    "    uid = ''.join(sorted(uid))\n",
    "    has_2_or_more_upper = bool(re.search(r'[A-Z]{2,}', uid))\n",
    "    has_3_or_more_digits = bool(re.search(r'\\d{3,}', uid))\n",
    "    has_10_proper_elements = bool(re.search(r'^[a-zA-Z0-9]{10}$', uid))\n",
    "    no_repeats = not bool(re.search(r'(.)\\1', uid))\n",
    "\n",
    "    if has_2_or_more_upper and has_3_or_more_digits and has_10_proper_elements and no_repeats:\n",
    "        return \"Valid\"\n",
    "    else:\n",
    "        return \"Invalid\"\n",
    "\n",
    "for i in range(int(input())):\n",
    "    print(is_valid(input()))"
   ]
  },
  {
   "cell_type": "code",
   "execution_count": null,
   "metadata": {},
   "outputs": [],
   "source": [
    "#Validating Postal Codes\n",
    "\n",
    "regex_integer_in_range = r\"^[1-9]\\d{5}$\"\t# Do not delete 'r'.\n",
    "regex_alternating_repetitive_digit_pair = r\"(.)(?=.\\1)\"\t# Do not delete 'r'."
   ]
  },
  {
   "cell_type": "markdown",
   "metadata": {},
   "source": [
    "## XML"
   ]
  },
  {
   "cell_type": "code",
   "execution_count": null,
   "metadata": {},
   "outputs": [],
   "source": [
    "#XML 1 - Find the Score\n",
    "\n",
    "def get_attr_number(node):\n",
    "    sm = 0\n",
    "    for elem in tree.iter():\n",
    "        sm += len(elem.items())\n",
    "\n",
    "    return sm"
   ]
  },
  {
   "cell_type": "code",
   "execution_count": null,
   "metadata": {},
   "outputs": [],
   "source": [
    "#XML2 - Find the Maximum Depth\n",
    "\n",
    "maxdepth = 0\n",
    "def depth(elem, level):\n",
    "    global maxdepth\n",
    "    level += 1\n",
    "    if level >= maxdepth:\n",
    "        maxdepth = level\n",
    "    for child in elem:\n",
    "        depth(child, level)"
   ]
  },
  {
   "cell_type": "markdown",
   "metadata": {},
   "source": [
    "## Closures and Decorations"
   ]
  },
  {
   "cell_type": "code",
   "execution_count": null,
   "metadata": {},
   "outputs": [],
   "source": [
    "#Standardize Mobile Number Using Decorators\n",
    "\n",
    "def wrapper(f):\n",
    "    def fun(l):\n",
    "        f('+91 {} {}'.format(number[-10:-5], number[-5:]) for number in l)\n",
    "    return fun"
   ]
  },
  {
   "cell_type": "code",
   "execution_count": null,
   "metadata": {},
   "outputs": [],
   "source": [
    "#Decorators 2 - Name Directory\n",
    "\n",
    "def person_lister(f):\n",
    "    def inner(people):\n",
    "        return map(f, sorted(people, key=lambda x: int(x[2])))\n",
    "    return inner"
   ]
  },
  {
   "cell_type": "markdown",
   "metadata": {},
   "source": [
    "## Numpy"
   ]
  },
  {
   "cell_type": "code",
   "execution_count": null,
   "metadata": {},
   "outputs": [],
   "source": [
    "#Arrays\n",
    "\n",
    "def arrays(arr):\n",
    "    arr2 = numpy.array(arr,float)\n",
    "    return numpy.flip(arr2)"
   ]
  },
  {
   "cell_type": "code",
   "execution_count": null,
   "metadata": {},
   "outputs": [],
   "source": [
    "#Shape and Reshape\n",
    "\n",
    "import numpy as np\n",
    "\n",
    "lst=list(map(int,input().split()))\n",
    "print(np.reshape(lst,(3,3)))"
   ]
  },
  {
   "cell_type": "code",
   "execution_count": null,
   "metadata": {},
   "outputs": [],
   "source": [
    "#Transpose and Flatten\n",
    "\n",
    "import numpy as np\n",
    "\n",
    "n,m = list(map(int,input().split()))\n",
    "lst = []\n",
    "\n",
    "for i in range(n):\n",
    "    arr = input().split()\n",
    "    lst.append(arr)\n",
    "arrfinal=np.array(lst,int)\n",
    "\n",
    "print(np.transpose(arrfinal))\n",
    "print(arrfinal.flatten())"
   ]
  },
  {
   "cell_type": "code",
   "execution_count": null,
   "metadata": {},
   "outputs": [],
   "source": [
    "#Concatenate\n",
    "\n",
    "import numpy as np\n",
    "\n",
    "lst=list(map(int,input().split()))\n",
    "\n",
    "n,m,p=lst[0],lst[1],lst[2]\n",
    "\n",
    "arr1=np.array([list(map(int,input().split())) for i in range(n)])\n",
    "\n",
    "arr2=np.array([list(map(int,input().split())) for i in range(m)])\n",
    "\n",
    "finalarr=np.concatenate((arr1,arr2),axis=0)\n",
    "\n",
    "print(finalarr)"
   ]
  },
  {
   "cell_type": "code",
   "execution_count": null,
   "metadata": {},
   "outputs": [],
   "source": [
    "#Zeros and Ones\n",
    "\n",
    "import numpy as np\n",
    "\n",
    "dim = tuple(map(int,input().split()))\n",
    "arr0 = np.zeros(dim,dtype=np.int)\n",
    "arr1 = np.ones(dim,dtype=np.int)\n",
    "\n",
    "print(arr0)\n",
    "print(arr1)"
   ]
  },
  {
   "cell_type": "code",
   "execution_count": null,
   "metadata": {},
   "outputs": [],
   "source": [
    "#Eye and Identity\n",
    "\n",
    "import numpy as np\n",
    "\n",
    "n,m = map(int, input().split())\n",
    "np.set_printoptions(sign=' ')\n",
    "idarr = np.eye(n,m,k=0)\n",
    "print(idarr)"
   ]
  },
  {
   "cell_type": "code",
   "execution_count": null,
   "metadata": {},
   "outputs": [],
   "source": [
    "#Array Mathematics\n",
    "\n",
    "import numpy as np\n",
    "\n",
    "n,m = map(int,input().split())\n",
    "\n",
    "arr1 = np.array([input().split() for i in range(n)], int)\n",
    "arr2 = np.array([input().split() for i in range(n)], int)\n",
    "\n",
    "print(arr1+arr2)\n",
    "print(arr1-arr2)\n",
    "print(arr1*arr2)\n",
    "print(arr1//arr2)\n",
    "print(arr1%arr2)\n",
    "print(arr1**arr2)"
   ]
  },
  {
   "cell_type": "code",
   "execution_count": null,
   "metadata": {},
   "outputs": [],
   "source": [
    "#Floor, Ceil and Rint\n",
    "\n",
    "import numpy as np\n",
    "\n",
    "\n",
    "arr = np.array(input().strip().split(), float)\n",
    "np.set_printoptions(sign=' ')\n",
    "\n",
    "print(np.floor(arr))\n",
    "print(np.ceil(arr))\n",
    "print(np.rint(arr))"
   ]
  },
  {
   "cell_type": "code",
   "execution_count": null,
   "metadata": {},
   "outputs": [],
   "source": [
    "#Sum and Prod\n",
    "\n",
    "import numpy as np\n",
    "n,m = map(int, input().split())\n",
    "arr = np.array([input().split() for i in range(n)],int)\n",
    "sm = np.sum(arr, axis = 0)\n",
    "prod = np.prod(sm) \n",
    "\n",
    "print(prod)"
   ]
  },
  {
   "cell_type": "code",
   "execution_count": null,
   "metadata": {},
   "outputs": [],
   "source": [
    "#Min and Max\n",
    "\n",
    "import numpy as np\n",
    "\n",
    "n,m = map(int, input().split())\n",
    "arr = np.array([input().split() for i in range(n)],int)\n",
    "\n",
    "min1 = np.min(arr, axis = 1) \n",
    "print(np.max(min1))"
   ]
  },
  {
   "cell_type": "code",
   "execution_count": null,
   "metadata": {},
   "outputs": [],
   "source": [
    "#Mean, Var, and Std\n",
    "\n",
    "import numpy as np\n",
    "\n",
    "n,m = map(int, input().split())\n",
    "arr = np.array([input().split() for i in range(n)],int)\n",
    "np.set_printoptions(sign=' ')\n",
    "\n",
    "print(np.mean(arr, axis = 1))\n",
    "print(np.var(arr, axis = 0))\n",
    "print(round(np.std(arr, axis = None),12))"
   ]
  },
  {
   "cell_type": "code",
   "execution_count": null,
   "metadata": {},
   "outputs": [],
   "source": [
    "#Dot and Cross\n",
    "\n",
    "import numpy as np\n",
    "\n",
    "n=int(input())\n",
    "arr1 = np.array([input().split() for i in range(n)],int)\n",
    "arr2 = np.array([input().split() for i in range(n)],int)\n",
    "#np.set_printoptions(sign=' ')\n",
    "\n",
    "print(np.dot(arr1,arr2))"
   ]
  },
  {
   "cell_type": "code",
   "execution_count": null,
   "metadata": {},
   "outputs": [],
   "source": [
    "#Inner and Outer\n",
    "\n",
    "import numpy as np\n",
    "\n",
    "arr1 = np.array(input().split(), int)\n",
    "arr2 = np.array(input().split(), int)\n",
    "\n",
    "print(np.inner(arr1,arr2))\n",
    "print(np.outer(arr1,arr2))"
   ]
  },
  {
   "cell_type": "code",
   "execution_count": null,
   "metadata": {},
   "outputs": [],
   "source": [
    "#Polynomials\n",
    "\n",
    "import numpy as np\n",
    "\n",
    "coef = list(map(float,input().split()))\n",
    "x = input()\n",
    "p = np.polyval(coef,int(x))\n",
    "\n",
    "print(p)"
   ]
  },
  {
   "cell_type": "code",
   "execution_count": null,
   "metadata": {},
   "outputs": [],
   "source": [
    "#Linear Algebra\n",
    "\n",
    "import numpy as np\n",
    "\n",
    "n = int(input())\n",
    "arr = np.array([input().split() for i in range(n)],float)\n",
    "det = np.linalg.det(arr)\n",
    "\n",
    "print(round(det,2))"
   ]
  },
  {
   "cell_type": "markdown",
   "metadata": {},
   "source": [
    "# Problem 2"
   ]
  },
  {
   "cell_type": "code",
   "execution_count": null,
   "metadata": {},
   "outputs": [],
   "source": [
    "#Birthday Cake Candles\n",
    "\n",
    "\n",
    "import math\n",
    "import os\n",
    "import random\n",
    "import re\n",
    "import sys\n",
    "\n",
    "# Complete the birthdayCakeCandles function below.\n",
    "def birthdayCakeCandles(ar):\n",
    "    max_height = max(ar)\n",
    "    numb = ar.count(max_height)\n",
    "    return numb\n",
    "\n",
    "if __name__ == '__main__':\n",
    "    fptr = open(os.environ['OUTPUT_PATH'], 'w')\n",
    "\n",
    "    ar_count = int(input())\n",
    "\n",
    "    ar = list(map(int, input().rstrip().split()))\n",
    "\n",
    "    result = birthdayCakeCandles(ar)\n",
    "\n",
    "    fptr.write(str(result) + '\\n')\n",
    "\n",
    "    fptr.close()"
   ]
  },
  {
   "cell_type": "code",
   "execution_count": null,
   "metadata": {},
   "outputs": [],
   "source": [
    "#Kangaroo\n",
    "\n",
    "#!/bin/python3\n",
    "\n",
    "import math\n",
    "import os\n",
    "import random\n",
    "import re\n",
    "import sys\n",
    "\n",
    "# Complete the kangaroo function below.\n",
    "def kangaroo(x1, v1, x2, v2):\n",
    "    #we need to solve the equation x1+n*v1 = x2+n*v2 where n = number of jumps\n",
    "    #x1-x2 = (v2-v1)n\n",
    "    #(x1-x2) // (v2-v1) = n ==> (x1-x2) % (v2-v1) = 0\n",
    "    if v2 >= v1: #as x2 > x1, if v2>=v1 as well kang1 will never catch up kang2\n",
    "        return \"NO\"\n",
    "    else:\n",
    "        if abs((x1 - x2) % (v2 - v1)) == 0:\n",
    "            return \"YES\"\n",
    "        else:\n",
    "            return \"NO\"\n",
    "        \n",
    "        \n",
    "if __name__ == '__main__':\n",
    "    fptr = open(os.environ['OUTPUT_PATH'], 'w')\n",
    "\n",
    "    x1V1X2V2 = input().split()\n",
    "\n",
    "    x1 = int(x1V1X2V2[0])\n",
    "\n",
    "    v1 = int(x1V1X2V2[1])\n",
    "\n",
    "    x2 = int(x1V1X2V2[2])\n",
    "\n",
    "    v2 = int(x1V1X2V2[3])\n",
    "\n",
    "    result = kangaroo(x1, v1, x2, v2)\n",
    "\n",
    "    fptr.write(result + '\\n')\n",
    "\n",
    "    fptr.close()"
   ]
  },
  {
   "cell_type": "code",
   "execution_count": null,
   "metadata": {},
   "outputs": [],
   "source": [
    "#Viral Advertising\n",
    "\n",
    "#!/bin/python3\n",
    "\n",
    "import math\n",
    "import os\n",
    "import random\n",
    "import re\n",
    "import sys\n",
    "\n",
    "# Complete the viralAdvertising function below.\n",
    "def viralAdvertising(n):\n",
    "    likes = 2\n",
    "    total = 2\n",
    "    if n == 1:\n",
    "        return total\n",
    "    else:\n",
    "        for i in range(2,n+1):\n",
    "            likes = likes * 3 // 2#gives us the number of likes each day\n",
    "            total += likes\n",
    "        return total\n",
    "\n",
    "\n",
    "if __name__ == '__main__':\n",
    "    fptr = open(os.environ['OUTPUT_PATH'], 'w')\n",
    "\n",
    "    n = int(input())\n",
    "\n",
    "    result = viralAdvertising(n)\n",
    "\n",
    "    fptr.write(str(result) + '\\n')\n",
    "\n",
    "    fptr.close()"
   ]
  },
  {
   "cell_type": "code",
   "execution_count": null,
   "metadata": {},
   "outputs": [],
   "source": [
    "#Recursive Digit Sum\n",
    "\n",
    "#!/bin/python3\n",
    "\n",
    "import math\n",
    "import os\n",
    "import random\n",
    "import re\n",
    "import sys\n",
    "\n",
    "# Complete the superDigit function below.\n",
    "def superDigit(n, k):\n",
    "    \n",
    "    def add_digits(string):\n",
    "        if len(string) == 1:\n",
    "            return string\n",
    "        result = sum(int(digit) for digit in string)\n",
    "        return add_digits(str(result))\n",
    "    \n",
    "    sm = sum(int(s) for s in n) * k\n",
    "    return add_digits(str(sm))\n",
    "\n",
    "if __name__ == '__main__':\n",
    "    fptr = open(os.environ['OUTPUT_PATH'], 'w')\n",
    "\n",
    "    nk = input().split()\n",
    "\n",
    "    n = nk[0]\n",
    "\n",
    "    k = int(nk[1])\n",
    "\n",
    "    result = superDigit(n, k)\n",
    "\n",
    "    fptr.write(str(result) + '\\n')\n",
    "\n",
    "    fptr.close()"
   ]
  },
  {
   "cell_type": "code",
   "execution_count": null,
   "metadata": {},
   "outputs": [],
   "source": [
    "#Insertion Sort - Part 1\n",
    "\n",
    "#!/bin/python3\n",
    "\n",
    "import math\n",
    "import os\n",
    "import random\n",
    "import re\n",
    "import sys\n",
    "\n",
    "# Complete the insertionSort1 function below.\n",
    "def insertionSort1(n, arr):\n",
    "    numb = arr[-1]\n",
    "    ind = n-2\n",
    "    \n",
    "    while (numb < arr[ind]) and (ind >= 0):\n",
    "        arr[ind+1] = arr[ind]\n",
    "        print(' '.join(map(str, arr)))\n",
    "        ind -= 1\n",
    "        \n",
    "    arr[ind+1] = numb\n",
    "    print(' '.join(map(str, arr)))\n",
    "\n",
    "if __name__ == '__main__':\n",
    "    n = int(input())\n",
    "\n",
    "    arr = list(map(int, input().rstrip().split()))\n",
    "\n",
    "    insertionSort1(n, arr)"
   ]
  },
  {
   "cell_type": "code",
   "execution_count": null,
   "metadata": {},
   "outputs": [],
   "source": [
    "#Insertion Sort - Part 2\n",
    "\n",
    "#!/bin/python3\n",
    "\n",
    "import math\n",
    "import os\n",
    "import random\n",
    "import re\n",
    "import sys\n",
    "\n",
    "# Complete the insertionSort2 function below.\n",
    "def insertionSort2(n, arr):\n",
    "\n",
    "    for i in range(1, n):\n",
    "        index = next(iter(j for j in range(i) if arr[j] > arr[i]), i)\n",
    "        arr[index+1:i+1], arr[index] = arr[index:i], arr[i]\n",
    "        print(*arr)\n",
    "\n",
    "\n",
    "if __name__ == '__main__':\n",
    "    n = int(input())\n",
    "\n",
    "    arr = list(map(int, input().rstrip().split()))\n",
    "\n",
    "    insertionSort2(n, arr)"
   ]
  }
 ],
 "metadata": {
  "kernelspec": {
   "display_name": "Python 3",
   "language": "python",
   "name": "python3"
  },
  "language_info": {
   "codemirror_mode": {
    "name": "ipython",
    "version": 3
   },
   "file_extension": ".py",
   "mimetype": "text/x-python",
   "name": "python",
   "nbconvert_exporter": "python",
   "pygments_lexer": "ipython3",
   "version": "3.7.1"
  }
 },
 "nbformat": 4,
 "nbformat_minor": 2
}
